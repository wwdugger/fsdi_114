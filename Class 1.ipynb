{
 "cells": [
  {
   "cell_type": "code",
   "execution_count": 1,
   "id": "3ec42b97",
   "metadata": {},
   "outputs": [
    {
     "name": "stdout",
     "output_type": "stream",
     "text": [
      "H\n",
      "e\n",
      "l\n",
      "l\n",
      "o\n",
      ",\n",
      " \n",
      "w\n",
      "o\n",
      "r\n",
      "l\n",
      "d\n"
     ]
    }
   ],
   "source": [
    "for letter in \"Hello, world\":\n",
    "    print(letter)\n",
    "#after you run this code, press SHIFT+ENTER to run it"
   ]
  },
  {
   "cell_type": "markdown",
   "id": "197f1bb6",
   "metadata": {},
   "source": [
    "#Problem 1\n",
    "## Given two strings as input determine if they are anagrams of each other given the following criteria:\n",
    "\n",
    "\n",
    "Two strings are only anagrams of each other if all conditions below are met:\n",
    "1. They must be exactly the same length\n",
    "2. They must use exactly the same characters.\n",
    "\n",
    "Examples:\n",
    "cars and scar\n",
    "heart and earth\n",
    "etc\n",
    "'''"
   ]
  },
  {
   "cell_type": "code",
   "execution_count": null,
   "id": "2897c52b",
   "metadata": {},
   "outputs": [],
   "source": []
  }
 ],
 "metadata": {
  "kernelspec": {
   "display_name": "Python 3 (ipykernel)",
   "language": "python",
   "name": "python3"
  },
  "language_info": {
   "codemirror_mode": {
    "name": "ipython",
    "version": 3
   },
   "file_extension": ".py",
   "mimetype": "text/x-python",
   "name": "python",
   "nbconvert_exporter": "python",
   "pygments_lexer": "ipython3",
   "version": "3.10.6"
  }
 },
 "nbformat": 4,
 "nbformat_minor": 5
}
