{
 "cells": [
  {
   "cell_type": "markdown",
   "id": "7ad8baaf",
   "metadata": {},
   "source": [
    "# Singly linked list implementation which keeps track of a head Node\n",
    "##Addition of append and __str__"
   ]
  },
  {
   "cell_type": "markdown",
   "id": "f0811033",
   "metadata": {},
   "source": [
    "# Pseudocode\n",
    "Node: class Node:\n",
    "\n",
    " def __init__(self, data):\n",
    "     self.data = data\n",
    "     self.next = None\n",
    "Append:\n",
    "\n",
    "#The init function to include self.head = None\n",
    "#Function should include self and an item def append(self, item):\n",
    " Case 1: Nothing is in the list yet... therefore self.head = None\n",
    " If Case 1 send the item to Node class\n",
    "     if self.head == None:\n",
    "         self.head = Node(item)      \n",
    " Case 2: There is one item in the list... therefore self.head = something\n",
    " If Case 2 set the previous Node item NEXT attribute to current item\n",
    "     current = self.head\n",
    "     current.next = Node(item)\n",
    " Case 3: There are many items in the list... therefore self.head = something\n",
    " If Case 2 traverse the list until you find the last Node then\n",
    "     Set the last Node.next to the current Node item\n",
    "         current = self.head\n",
    "         while current.next:\n",
    "             current = current.next\n",
    "    def __str__(self):"
   ]
  },
  {
   "cell_type": "code",
   "execution_count": null,
   "id": "0ebef4d4",
   "metadata": {},
   "outputs": [],
   "source": [
    "class Node:\n",
    "    def __init__(self, data):\n",
    "        self.data = data\n",
    "        self.next = None"
   ]
  },
  {
   "cell_type": "code",
   "execution_count": 1,
   "id": "c6367c8a",
   "metadata": {},
   "outputs": [],
   "source": [
    "class Node:\n",
    "    def __init__(self, data):\n",
    "        self.data = data\n",
    "        self.next = None\n",
    "\n",
    "class SingleLinkedList:\n",
    "    def __init__(self):\n",
    "        self.head = None\n",
    "    \n",
    "    def append(self, item):\n",
    "        if not self.head:\n",
    "            self.head = Node(item)\n",
    "        else:\n",
    "            current = self.head\n",
    "            while current.next:\n",
    "                current = current.next\n",
    "            current.next = Node(item)\n",
    "        \n",
    "    def insert(self, item, index):\n",
    "        if not self.head:\n",
    "                self.head = Node(item)\n",
    "\n",
    "        elif index <= 0:                   #<= \n",
    "            new_node = Node(item)\n",
    "            new_node.next = self.head\n",
    "            self.head = new_node\n",
    "\n",
    "        else:\n",
    "            prev = None\n",
    "            current = self.head\n",
    "            counter = 0\n",
    "            while current.next and counter != index:\n",
    "                prev = current\n",
    "                current = current.next\n",
    "                counter += 1\n",
    "            if counter != index:\n",
    "                current.next = Node(item)\n",
    "            else:\n",
    "                new_node = Node(item)\n",
    "                prev.next = new_node\n",
    "                new_node.next = current\n",
    "                \n",
    "    def remove(self, value):\n",
    "        current = self.head\n",
    "        prev = None\n",
    "        counter = 0\n",
    "        \n",
    "        if self.is_empty():\n",
    "            raise ValueError(\"Empty List\")\n",
    "        else:\n",
    "            prev = None\n",
    "            while current.next and current != value: #worst-case (Avg-case) is O(n)\n",
    "                prev = current\n",
    "                current = current.next\n",
    "            if current.data == value:\n",
    "                prev.next = current.next \n",
    "            \n",
    "        if current:   \n",
    "            if prev == None:\n",
    "                next = current.next\n",
    "                self.head = next\n",
    "                return current.data\n",
    "            elif not current.next:\n",
    "                prev.next = None\n",
    "                return current.data\n",
    "            else:\n",
    "                prev.next = current.next\n",
    "                return current.data\n",
    "        else:\n",
    "            raise ValueError(\"Value Not in List\")\n",
    "            \n",
    "           \n",
    "    \n",
    "    def is_empty(self):\n",
    "        if not self.head:\n",
    "            return True\n",
    "        else:\n",
    "            return False\n",
    "    \n",
    "    def peak(self):\n",
    "        pass\n",
    "    \n",
    "    def size(self):\n",
    "        counter = 0\n",
    "        if not self.head:\n",
    "            return counter\n",
    "        else:\n",
    "            current = self.head\n",
    "            while current.next:\n",
    "                counter += 1\n",
    "                current = current.next\n",
    "            return counter\n",
    "            \n",
    "            \n",
    "    def add_all(self):\n",
    "        total = 0\n",
    "        current = self.head\n",
    "        \n",
    "        while current:\n",
    "            total += current.data\n",
    "            current = current.next\n",
    "        return total \n",
    "\n",
    "    def __str__(self):\n",
    "        out_str = \"[\"\n",
    "        if self.head:\n",
    "            current = self.head\n",
    "            out_str += '%s' % current.data\n",
    "            while current:\n",
    "                current = current.next\n",
    "                if current:\n",
    "                    out_str += \", %s\" % current.data\n",
    "        out_str += \"]\"\n",
    "        return out_str"
   ]
  },
  {
   "cell_type": "code",
   "execution_count": 2,
   "id": "26956c0e",
   "metadata": {},
   "outputs": [
    {
     "name": "stdout",
     "output_type": "stream",
     "text": [
      "[0, 1, 2, 3, 4, 5, 6, 7, 8, 9]\n"
     ]
    }
   ],
   "source": [
    "single_test = SingleLinkedList()\n",
    "\n",
    "for number in range(10):\n",
    "    single_test.append(number)\n",
    "    \n",
    "print(single_test)"
   ]
  },
  {
   "cell_type": "code",
   "execution_count": 3,
   "id": "9ff062f2",
   "metadata": {},
   "outputs": [
    {
     "name": "stdout",
     "output_type": "stream",
     "text": [
      "[0, 1, 2, 3, 4, 5, 6, 7, 8, 9, 0]\n"
     ]
    }
   ],
   "source": [
    "#test inserting at the last position\n",
    "single_test.insert(0,11)\n",
    "print(single_test)"
   ]
  },
  {
   "cell_type": "code",
   "execution_count": 4,
   "id": "501ba223",
   "metadata": {},
   "outputs": [
    {
     "name": "stdout",
     "output_type": "stream",
     "text": [
      "[100, 0, 1, 2, 3, 4, 5, 6, 7, 8, 9, 0]\n"
     ]
    }
   ],
   "source": [
    "#test inserting at the first position\n",
    "single_test.insert(100,0)\n",
    "print(single_test)"
   ]
  },
  {
   "cell_type": "code",
   "execution_count": 5,
   "id": "ed4ddf7b",
   "metadata": {},
   "outputs": [
    {
     "name": "stdout",
     "output_type": "stream",
     "text": [
      "[100, 0, 1, 2, 3, 4, 5, 6, 7, 8, 9, 0, 555]\n"
     ]
    }
   ],
   "source": [
    "#test inserting greater than the length of the list \n",
    "single_test.insert(555, 10000)\n",
    "print(single_test)"
   ]
  },
  {
   "cell_type": "code",
   "execution_count": 6,
   "id": "20c51000",
   "metadata": {},
   "outputs": [
    {
     "name": "stdout",
     "output_type": "stream",
     "text": [
      "[100, 0, 1, 2, 3, 0, 4, 5, 6, 7, 8, 9, 0, 555]\n"
     ]
    }
   ],
   "source": [
    "#test isnerting in the middle\n",
    "single_test.insert(0, 5)\n",
    "print(single_test)"
   ]
  },
  {
   "cell_type": "code",
   "execution_count": 7,
   "id": "be0631a5",
   "metadata": {},
   "outputs": [
    {
     "name": "stdout",
     "output_type": "stream",
     "text": [
      "[100, 0, 1, 2, 3, 0, 4, 5, 6, 7, 8, 9, 0]\n"
     ]
    }
   ],
   "source": [
    "#test removing the last Node\n",
    "single_test.remove(555)\n",
    "print(single_test)"
   ]
  },
  {
   "cell_type": "code",
   "execution_count": 8,
   "id": "811db904",
   "metadata": {},
   "outputs": [
    {
     "name": "stdout",
     "output_type": "stream",
     "text": [
      "[100, 0, 1, 2, 3, 0, 4, 5, 7, 8, 9, 0]\n"
     ]
    }
   ],
   "source": [
    "#test removing a middle Node\n",
    "single_test.remove(6)\n",
    "print(single_test)"
   ]
  },
  {
   "cell_type": "code",
   "execution_count": 1,
   "id": "7983284b",
   "metadata": {},
   "outputs": [
    {
     "ename": "NameError",
     "evalue": "name 'single_test' is not defined",
     "output_type": "error",
     "traceback": [
      "\u001b[0;31m---------------------------------------------------------------------------\u001b[0m",
      "\u001b[0;31mNameError\u001b[0m                                 Traceback (most recent call last)",
      "Cell \u001b[0;32mIn [1], line 2\u001b[0m\n\u001b[1;32m      1\u001b[0m \u001b[38;5;66;03m#test removing the first Node\u001b[39;00m\n\u001b[0;32m----> 2\u001b[0m \u001b[43msingle_test\u001b[49m\u001b[38;5;241m.\u001b[39mremove(\u001b[38;5;241m100\u001b[39m)\n\u001b[1;32m      3\u001b[0m \u001b[38;5;28mprint\u001b[39m(single_test)\n",
      "\u001b[0;31mNameError\u001b[0m: name 'single_test' is not defined"
     ]
    }
   ],
   "source": [
    "#test removing the first Node\n",
    "single_test.remove(100)\n",
    "print(single_test)"
   ]
  },
  {
   "cell_type": "code",
   "execution_count": 20,
   "id": "73144482",
   "metadata": {},
   "outputs": [
    {
     "ename": "AttributeError",
     "evalue": "'builtin_function_or_method' object has no attribute 'data'",
     "output_type": "error",
     "traceback": [
      "\u001b[0;31m---------------------------------------------------------------------------\u001b[0m",
      "\u001b[0;31mAttributeError\u001b[0m                            Traceback (most recent call last)",
      "Cell \u001b[0;32mIn [20], line 2\u001b[0m\n\u001b[1;32m      1\u001b[0m \u001b[38;5;66;03m#test removing a Node not in the List\u001b[39;00m\n\u001b[0;32m----> 2\u001b[0m \u001b[43msingle_test\u001b[49m\u001b[38;5;241;43m.\u001b[39;49m\u001b[43mremove\u001b[49m\u001b[43m(\u001b[49m\u001b[38;5;241;43m555\u001b[39;49m\u001b[43m)\u001b[49m\n\u001b[1;32m      3\u001b[0m \u001b[38;5;28mprint\u001b[39m(single_test)\n",
      "Cell \u001b[0;32mIn [1], line 52\u001b[0m, in \u001b[0;36mSingleLinkedList.remove\u001b[0;34m(self, value)\u001b[0m\n\u001b[1;32m     49\u001b[0m \u001b[38;5;28;01mif\u001b[39;00m \u001b[38;5;28mself\u001b[39m\u001b[38;5;241m.\u001b[39mis_empty():\n\u001b[1;32m     50\u001b[0m     \u001b[38;5;28;01mraise\u001b[39;00m \u001b[38;5;167;01mValueError\u001b[39;00m(\u001b[38;5;124m\"\u001b[39m\u001b[38;5;124mEmpty List\u001b[39m\u001b[38;5;124m\"\u001b[39m)\n\u001b[0;32m---> 52\u001b[0m \u001b[38;5;28;01mwhile\u001b[39;00m current \u001b[38;5;129;01mand\u001b[39;00m \u001b[43mcurrent\u001b[49m\u001b[38;5;241;43m.\u001b[39;49m\u001b[43mdata\u001b[49m \u001b[38;5;241m!=\u001b[39m value:\n\u001b[1;32m     53\u001b[0m     prev \u001b[38;5;241m=\u001b[39m current\n\u001b[1;32m     54\u001b[0m     current \u001b[38;5;241m=\u001b[39m current\u001b[38;5;241m.\u001b[39mnext\n",
      "\u001b[0;31mAttributeError\u001b[0m: 'builtin_function_or_method' object has no attribute 'data'"
     ]
    }
   ],
   "source": [
    "#test removing a Node not in the List\n",
    "single_test.remove(555)\n",
    "print(single_test)"
   ]
  },
  {
   "cell_type": "code",
   "execution_count": 21,
   "id": "90a8c99c",
   "metadata": {},
   "outputs": [
    {
     "name": "stdout",
     "output_type": "stream",
     "text": [
      "[]\n"
     ]
    },
    {
     "ename": "ValueError",
     "evalue": "Empty List",
     "output_type": "error",
     "traceback": [
      "\u001b[0;31m---------------------------------------------------------------------------\u001b[0m",
      "\u001b[0;31mValueError\u001b[0m                                Traceback (most recent call last)",
      "Cell \u001b[0;32mIn [21], line 5\u001b[0m\n\u001b[1;32m      2\u001b[0m empty_test \u001b[38;5;241m=\u001b[39m SingleLinkedList()\n\u001b[1;32m      4\u001b[0m \u001b[38;5;28mprint\u001b[39m(empty_test)\n\u001b[0;32m----> 5\u001b[0m \u001b[43mempty_test\u001b[49m\u001b[38;5;241;43m.\u001b[39;49m\u001b[43mremove\u001b[49m\u001b[43m(\u001b[49m\u001b[38;5;241;43m10\u001b[39;49m\u001b[43m)\u001b[49m\n",
      "Cell \u001b[0;32mIn [1], line 50\u001b[0m, in \u001b[0;36mSingleLinkedList.remove\u001b[0;34m(self, value)\u001b[0m\n\u001b[1;32m     47\u001b[0m counter \u001b[38;5;241m=\u001b[39m \u001b[38;5;241m0\u001b[39m\n\u001b[1;32m     49\u001b[0m \u001b[38;5;28;01mif\u001b[39;00m \u001b[38;5;28mself\u001b[39m\u001b[38;5;241m.\u001b[39mis_empty():\n\u001b[0;32m---> 50\u001b[0m     \u001b[38;5;28;01mraise\u001b[39;00m \u001b[38;5;167;01mValueError\u001b[39;00m(\u001b[38;5;124m\"\u001b[39m\u001b[38;5;124mEmpty List\u001b[39m\u001b[38;5;124m\"\u001b[39m)\n\u001b[1;32m     52\u001b[0m \u001b[38;5;28;01mwhile\u001b[39;00m current \u001b[38;5;129;01mand\u001b[39;00m current\u001b[38;5;241m.\u001b[39mdata \u001b[38;5;241m!=\u001b[39m value:\n\u001b[1;32m     53\u001b[0m     prev \u001b[38;5;241m=\u001b[39m current\n",
      "\u001b[0;31mValueError\u001b[0m: Empty List"
     ]
    }
   ],
   "source": [
    "#test removing from an empty list\n",
    "empty_test = SingleLinkedList()\n",
    "    \n",
    "print(empty_test)\n",
    "empty_test.remove(10)"
   ]
  },
  {
   "cell_type": "code",
   "execution_count": null,
   "id": "ef0ef748",
   "metadata": {},
   "outputs": [],
   "source": []
  },
  {
   "cell_type": "code",
   "execution_count": null,
   "id": "3e01518d",
   "metadata": {},
   "outputs": [],
   "source": []
  }
 ],
 "metadata": {
  "kernelspec": {
   "display_name": "Python 3 (ipykernel)",
   "language": "python",
   "name": "python3"
  },
  "language_info": {
   "codemirror_mode": {
    "name": "ipython",
    "version": 3
   },
   "file_extension": ".py",
   "mimetype": "text/x-python",
   "name": "python",
   "nbconvert_exporter": "python",
   "pygments_lexer": "ipython3",
   "version": "3.10.6"
  }
 },
 "nbformat": 4,
 "nbformat_minor": 5
}
