{
 "cells": [
  {
   "cell_type": "code",
   "execution_count": null,
   "id": "c780bedc",
   "metadata": {},
   "outputs": [],
   "source": [
    "# Intro impementation of a stack:\n",
    "# This impementation uses \"built-in\" data structures and methods to achieve its goal.\n",
    "class Stack:\n",
    "    def __init__(self):\n",
    "        self.items = []\n",
    "    \n",
    "    #These are essential\n",
    "    def push(self, item):\n",
    "        self.items.append(item)\n",
    "        \n",
    "    def pop(self):\n",
    "        return self.items.pop()\n",
    "    \n",
    "    #These are nice to have\n",
    "    def is_empty(self):\n",
    "        return self.items == []\n",
    "    \n",
    "    def peek(self):\n",
    "        return self.items[len(self.items)-1]\n",
    "    \n",
    "    def size(self):\n",
    "        return len(self.items)\n",
    "    \n"
   ]
  },
  {
   "cell_type": "markdown",
   "id": "d890d998",
   "metadata": {},
   "source": [
    "# Problem 2 \n",
    "### Invert a string using our stack class.\n",
    "\n",
    "Using the stack class above, create a function called \"reverse_str\" that takes a string parameter and returns it in inverted order.\n",
    "```\n",
    "Examples:\n",
    "reverse_str(\"Rafael\") == \"leafaR\"\n",
    "reverse_str(\"cars\") == \"scrac\"\n",
    "reverse_str(\"house\") == \"esuoh\"\n",
    "```"
   ]
  },
  {
   "cell_type": "code",
   "execution_count": 2,
   "id": "f5af9e90",
   "metadata": {},
   "outputs": [
    {
     "name": "stdout",
     "output_type": "stream",
     "text": [
      "3\n"
     ]
    }
   ],
   "source": [
    "def add_2_numbers(a, b):\n",
    "    return a+b\n",
    "\n",
    "c= add_2_numbers(1, 2)\n",
    "\n",
    "print(c)"
   ]
  },
  {
   "cell_type": "code",
   "execution_count": 6,
   "id": "9597547f",
   "metadata": {},
   "outputs": [],
   "source": [
    "#def reverse_str -> parameters(string):\n",
    "#    declare a Stack object\n",
    "#    for each letter in string:\n",
    "#        push the letter in the stack:\n",
    "#\n",
    "#    declare on empty string called \"reversed\"\n",
    "#    for each letter in the stack:\n",
    "#        pop each letter and append it into \"reversed\"\n",
    "#    return the reversed string"
   ]
  },
  {
   "cell_type": "code",
   "execution_count": 7,
   "id": "39058b5c",
   "metadata": {},
   "outputs": [
    {
     "ename": "NameError",
     "evalue": "name 'Stack' is not defined",
     "output_type": "error",
     "traceback": [
      "\u001b[0;31m---------------------------------------------------------------------------\u001b[0m",
      "\u001b[0;31mNameError\u001b[0m                                 Traceback (most recent call last)",
      "Cell \u001b[0;32mIn [7], line 11\u001b[0m\n\u001b[1;32m      8\u001b[0m         \u001b[38;5;28mreversed\u001b[39m \u001b[38;5;241m+\u001b[39m\u001b[38;5;241m=\u001b[39m lttrStack\u001b[38;5;241m.\u001b[39mpop()\n\u001b[1;32m      9\u001b[0m     \u001b[38;5;28;01mreturn\u001b[39;00m \u001b[38;5;28mreversed\u001b[39m\n\u001b[0;32m---> 11\u001b[0m \u001b[43mreverse_str\u001b[49m\u001b[43m(\u001b[49m\u001b[38;5;124;43m\"\u001b[39;49m\u001b[38;5;124;43mRafael\u001b[39;49m\u001b[38;5;124;43m\"\u001b[39;49m\u001b[43m)\u001b[49m\n",
      "Cell \u001b[0;32mIn [7], line 2\u001b[0m, in \u001b[0;36mreverse_str\u001b[0;34m(string)\u001b[0m\n\u001b[1;32m      1\u001b[0m \u001b[38;5;28;01mdef\u001b[39;00m \u001b[38;5;21mreverse_str\u001b[39m(string):\n\u001b[0;32m----> 2\u001b[0m     ltterStack \u001b[38;5;241m=\u001b[39m \u001b[43mStack\u001b[49m()\n\u001b[1;32m      3\u001b[0m     \u001b[38;5;28;01mfor\u001b[39;00m letter \u001b[38;5;129;01min\u001b[39;00m string:\n\u001b[1;32m      4\u001b[0m         ltterStack\u001b[38;5;241m.\u001b[39mpush(letter)\n",
      "\u001b[0;31mNameError\u001b[0m: name 'Stack' is not defined"
     ]
    }
   ],
   "source": [
    "def reverse_str(string):\n",
    "    ltterStack = Stack()\n",
    "    for letter in string:\n",
    "        ltterStack.push(letter)\n",
    "        \n",
    "    reversed = \"\"\n",
    "    for letter in range(lttrStack.size()):\n",
    "        reversed += lttrStack.pop()\n",
    "    return reversed\n",
    "\n",
    "reverse_str(\"Rafael\")"
   ]
  },
  {
   "cell_type": "code",
   "execution_count": 5,
   "id": "a569c1f0",
   "metadata": {},
   "outputs": [],
   "source": [
    "def reverse_str(mystring):\n",
    "    stack = Stack()\n",
    "    for letter in mystring:\n",
    "        stack.push(letter)\n",
    "        \n",
    "    out_str = \"\"\n",
    "    while not stack.is_empty():      #while stack.is_empty() != True\n",
    "        out_str = out_str + stack.pop()\n",
    "    return out_str"
   ]
  },
  {
   "cell_type": "code",
   "execution_count": 4,
   "id": "2e6b5a42",
   "metadata": {},
   "outputs": [
    {
     "ename": "NameError",
     "evalue": "name 'Stack' is not defined",
     "output_type": "error",
     "traceback": [
      "\u001b[0;31m---------------------------------------------------------------------------\u001b[0m",
      "\u001b[0;31mNameError\u001b[0m                                 Traceback (most recent call last)",
      "Cell \u001b[0;32mIn [4], line 1\u001b[0m\n\u001b[0;32m----> 1\u001b[0m \u001b[43mreverse_str\u001b[49m\u001b[43m(\u001b[49m\u001b[38;5;124;43m\"\u001b[39;49m\u001b[38;5;124;43mRafael\u001b[39;49m\u001b[38;5;124;43m\"\u001b[39;49m\u001b[43m)\u001b[49m\n",
      "Cell \u001b[0;32mIn [2], line 2\u001b[0m, in \u001b[0;36mreverse_str\u001b[0;34m(mystring)\u001b[0m\n\u001b[1;32m      1\u001b[0m \u001b[38;5;28;01mdef\u001b[39;00m \u001b[38;5;21mreverse_str\u001b[39m(mystring):\n\u001b[0;32m----> 2\u001b[0m     stack \u001b[38;5;241m=\u001b[39m \u001b[43mStack\u001b[49m()\n\u001b[1;32m      3\u001b[0m     \u001b[38;5;28;01mfor\u001b[39;00m letter \u001b[38;5;129;01min\u001b[39;00m mystring:\n\u001b[1;32m      4\u001b[0m         stack\u001b[38;5;241m.\u001b[39mpush(letter)\n",
      "\u001b[0;31mNameError\u001b[0m: name 'Stack' is not defined"
     ]
    }
   ],
   "source": [
    "reverse_str(\"Rafael\")"
   ]
  },
  {
   "cell_type": "code",
   "execution_count": 7,
   "id": "01753d1f",
   "metadata": {},
   "outputs": [],
   "source": [
    "#Intro implementatiojs of a queue:\n",
    "#This implementation uses \"built-in\" data structures and methods to achieve its goal.\n",
    "class Queue:\n",
    "    def __init__(self):\n",
    "        self.items = []\n",
    "    #These are essential\n",
    "    def enqueue(self, item):\n",
    "        self.items.insert(0,item)\n",
    "    \n",
    "    def dequeue(self):\n",
    "        return self.items.pop()\n",
    "    \n",
    "    #These are nice to have\n",
    "    def is_empty(self):\n",
    "        return self.items == []\n",
    "    \n",
    "    def size(self):\n",
    "        return len(self.items)"
   ]
  },
  {
   "cell_type": "code",
   "execution_count": 8,
   "id": "6f181956",
   "metadata": {},
   "outputs": [
    {
     "name": "stdout",
     "output_type": "stream",
     "text": [
      "5\n"
     ]
    }
   ],
   "source": [
    "#Example of pass by value\n",
    "\n",
    "x = 5\n",
    "y = x\n",
    "\n",
    "x = x +1\n",
    "\n",
    "print(y)"
   ]
  },
  {
   "cell_type": "code",
   "execution_count": 9,
   "id": "835dddf1",
   "metadata": {},
   "outputs": [
    {
     "name": "stdout",
     "output_type": "stream",
     "text": [
      "[1, 2, 3, 4, 5, 6]\n"
     ]
    }
   ],
   "source": [
    "#Example of pass by reference\n",
    "\n",
    "x = [1, 2, 3, 4, 5]\n",
    "y = x\n",
    "\n",
    "x = x.append(6)\n",
    "\n",
    "print(y)"
   ]
  },
  {
   "cell_type": "code",
   "execution_count": 10,
   "id": "601808e6",
   "metadata": {},
   "outputs": [],
   "source": [
    "# Implementation of a stack class from scratch\n",
    "\n",
    "class Node:\n",
    "    def __init__(self, data):\n",
    "        self.data = data\n",
    "        self.above = None\n"
   ]
  },
  {
   "cell_type": "code",
   "execution_count": 12,
   "id": "96310408",
   "metadata": {},
   "outputs": [
    {
     "name": "stdout",
     "output_type": "stream",
     "text": [
      "1\n",
      "2\n",
      "3\n"
     ]
    }
   ],
   "source": [
    "x = [1, 2, 3, 4, 5]\n",
    "\n",
    "base = Node(x[0])\n",
    "new_node = Node(x[1])\n",
    "base.above = new_node\n",
    "new_node_one = Node(x[2])\n",
    "new_node.above = new_node_one\n",
    "\n",
    "current = base\n",
    "while current:\n",
    "    print(current.data)\n",
    "    current = current.above"
   ]
  },
  {
   "cell_type": "code",
   "execution_count": 13,
   "id": "ca39d45d",
   "metadata": {},
   "outputs": [],
   "source": [
    "class Stack:\n",
    "    def __init__(self):\n",
    "        self.base = None\n",
    "        \n",
    "    def is_empty(self):\n",
    "        return self.base == None\n",
    "    \n",
    "    def push(self, items):\n",
    "        if not self.base:\n",
    "            self.base = Node(item)\n",
    "        else:\n",
    "            current = self.base\n",
    "            while current.above:\n",
    "                current = current.above\n",
    "            current.above = Node(item)\n",
    "\n",
    "    def pop(self):\n",
    "        if self.base:\n",
    "            prev = None\n",
    "            current = self.base\n",
    "            while current.above:\n",
    "                prev = current\n",
    "                current = current.above\n",
    "            if not prev:\n",
    "                self.base = None\n",
    "            prev.above = None\n",
    "            return current.data\n",
    "        raise IndexError(\"pop from empty stack\")\n",
    "        \n",
    "        \n",
    "    def peek(self):\n",
    "        current = self.base\n",
    "        while current.above:\n",
    "            current = current.above\n",
    "        if not current:\n",
    "            raise IndexError(\"Empty stack\")\n",
    "        return current.data\n",
    "    \n",
    "    def size(self):\n",
    "        counter = 0\n",
    "        current = self.base\n",
    "        while current:\n",
    "            counter += 1\n",
    "            current = current.above\n",
    "        return counter\n",
    "\n"
   ]
  },
  {
   "cell_type": "code",
   "execution_count": 14,
   "id": "115c7730",
   "metadata": {},
   "outputs": [],
   "source": [
    "def reverse_str(mystring):\n",
    "    stack = Stack()\n",
    "    for letter in mystring:\n",
    "        stack.push(letter)\n",
    "        \n",
    "    out_str = \"\"\n",
    "    while not stack.is_empty():      #while stack.is_empty() != True\n",
    "        out_str = out_str + stack.pop()\n",
    "    return out_str"
   ]
  },
  {
   "cell_type": "code",
   "execution_count": 16,
   "id": "48ba6415",
   "metadata": {},
   "outputs": [
    {
     "ename": "NameError",
     "evalue": "name 'item' is not defined",
     "output_type": "error",
     "traceback": [
      "\u001b[0;31m---------------------------------------------------------------------------\u001b[0m",
      "\u001b[0;31mNameError\u001b[0m                                 Traceback (most recent call last)",
      "Cell \u001b[0;32mIn [16], line 1\u001b[0m\n\u001b[0;32m----> 1\u001b[0m \u001b[43mreverse_str\u001b[49m\u001b[43m(\u001b[49m\u001b[38;5;124;43m\"\u001b[39;49m\u001b[38;5;124;43mRafael\u001b[39;49m\u001b[38;5;124;43m\"\u001b[39;49m\u001b[43m)\u001b[49m\n",
      "Cell \u001b[0;32mIn [14], line 4\u001b[0m, in \u001b[0;36mreverse_str\u001b[0;34m(mystring)\u001b[0m\n\u001b[1;32m      2\u001b[0m stack \u001b[38;5;241m=\u001b[39m Stack()\n\u001b[1;32m      3\u001b[0m \u001b[38;5;28;01mfor\u001b[39;00m letter \u001b[38;5;129;01min\u001b[39;00m mystring:\n\u001b[0;32m----> 4\u001b[0m     \u001b[43mstack\u001b[49m\u001b[38;5;241;43m.\u001b[39;49m\u001b[43mpush\u001b[49m\u001b[43m(\u001b[49m\u001b[43mletter\u001b[49m\u001b[43m)\u001b[49m\n\u001b[1;32m      6\u001b[0m out_str \u001b[38;5;241m=\u001b[39m \u001b[38;5;124m\"\u001b[39m\u001b[38;5;124m\"\u001b[39m\n\u001b[1;32m      7\u001b[0m \u001b[38;5;28;01mwhile\u001b[39;00m \u001b[38;5;129;01mnot\u001b[39;00m stack\u001b[38;5;241m.\u001b[39mis_empty():      \u001b[38;5;66;03m#while stack.is_empty() != True\u001b[39;00m\n",
      "Cell \u001b[0;32mIn [13], line 7\u001b[0m, in \u001b[0;36mStack.push\u001b[0;34m(self, items)\u001b[0m\n\u001b[1;32m      5\u001b[0m \u001b[38;5;28;01mdef\u001b[39;00m \u001b[38;5;21mpush\u001b[39m(\u001b[38;5;28mself\u001b[39m, items):\n\u001b[1;32m      6\u001b[0m     \u001b[38;5;28;01mif\u001b[39;00m \u001b[38;5;129;01mnot\u001b[39;00m \u001b[38;5;28mself\u001b[39m\u001b[38;5;241m.\u001b[39mbase:\n\u001b[0;32m----> 7\u001b[0m         \u001b[38;5;28mself\u001b[39m\u001b[38;5;241m.\u001b[39mbase \u001b[38;5;241m=\u001b[39m Node(\u001b[43mitem\u001b[49m)\n\u001b[1;32m      8\u001b[0m     \u001b[38;5;28;01melse\u001b[39;00m:\n\u001b[1;32m      9\u001b[0m         current \u001b[38;5;241m=\u001b[39m \u001b[38;5;28mself\u001b[39m\u001b[38;5;241m.\u001b[39mbase\n",
      "\u001b[0;31mNameError\u001b[0m: name 'item' is not defined"
     ]
    }
   ],
   "source": [
    "reverse_str(\"Rafael\")"
   ]
  },
  {
   "cell_type": "code",
   "execution_count": null,
   "id": "63c94f27",
   "metadata": {},
   "outputs": [],
   "source": []
  }
 ],
 "metadata": {
  "kernelspec": {
   "display_name": "Python 3 (ipykernel)",
   "language": "python",
   "name": "python3"
  },
  "language_info": {
   "codemirror_mode": {
    "name": "ipython",
    "version": 3
   },
   "file_extension": ".py",
   "mimetype": "text/x-python",
   "name": "python",
   "nbconvert_exporter": "python",
   "pygments_lexer": "ipython3",
   "version": "3.10.6"
  }
 },
 "nbformat": 4,
 "nbformat_minor": 5
}
