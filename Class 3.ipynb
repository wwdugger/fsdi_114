{
 "cells": [
  {
   "cell_type": "code",
   "execution_count": null,
   "id": "e95079eb",
   "metadata": {},
   "outputs": [],
   "source": [
    "class Node:\n",
    "    def __init__(self, data):\n",
    "        self.data = data\n",
    "        self.prev = None\n",
    "\n",
    "class Queue:\n",
    "    def __init__(self):\n",
    "        self.front = None\n",
    "    \n",
    "    def enqueue(self, item):\n",
    "        if not self.front:\n",
    "            self.front = Node(item)\n",
    "        else:\n",
    "            current = self.front\n",
    "            while current.prev:\n",
    "                current = current.prev\n",
    "            current.prev = Node(item)\n",
    "    \n",
    "    def dequeue(self):\n",
    "        if self.front:\n",
    "            current = self.front\n",
    "            node_before = self.front.prev\n",
    "            if not node_before:\n",
    "                self.front = None\n",
    "                return current.data\n",
    "            else:\n",
    "                self.front = node_before\n",
    "                return current.data        \n",
    "        else:\n",
    "            raise IndexError(\"Empty Queue\")\n",
    "            \n",
    "    def __str__(self):\n",
    "        out_str = \"[\"\n",
    "        if self.front:\n",
    "            current = self.front\n",
    "            out_str += '%s' % current.data\n",
    "            while current:\n",
    "                current = current.prev\n",
    "                if current:\n",
    "                    out_str += \", %s\" % current.data\n",
    "        out_str += \"]\"\n",
    "        return out_str\n",
    "        "
   ]
  },
  {
   "cell_type": "code",
   "execution_count": 1,
   "id": "10ed7f1e",
   "metadata": {},
   "outputs": [
    {
     "ename": "NameError",
     "evalue": "name 'Queue' is not defined",
     "output_type": "error",
     "traceback": [
      "\u001b[0;31m---------------------------------------------------------------------------\u001b[0m",
      "\u001b[0;31mNameError\u001b[0m                                 Traceback (most recent call last)",
      "Cell \u001b[0;32mIn [1], line 16\u001b[0m\n\u001b[1;32m     13\u001b[0m         \u001b[38;5;28;01mexcept\u001b[39;00m \u001b[38;5;167;01mIndexError\u001b[39;00m \u001b[38;5;28;01mas\u001b[39;00m idexrr:\n\u001b[1;32m     14\u001b[0m             \u001b[38;5;28mprint\u001b[39m(idexrr)\n\u001b[0;32m---> 16\u001b[0m \u001b[43mqueue_helper\u001b[49m\u001b[43m(\u001b[49m\u001b[43m)\u001b[49m\n",
      "Cell \u001b[0;32mIn [1], line 2\u001b[0m, in \u001b[0;36mqueue_helper\u001b[0;34m(mylist)\u001b[0m\n\u001b[1;32m      1\u001b[0m \u001b[38;5;28;01mdef\u001b[39;00m \u001b[38;5;21mqueue_helper\u001b[39m(mylist\u001b[38;5;241m=\u001b[39m[\u001b[38;5;241m1\u001b[39m,\u001b[38;5;241m2\u001b[39m,\u001b[38;5;241m3\u001b[39m,\u001b[38;5;241m4\u001b[39m,\u001b[38;5;241m5\u001b[39m]):\n\u001b[0;32m----> 2\u001b[0m     queue \u001b[38;5;241m=\u001b[39m \u001b[43mQueue\u001b[49m()\n\u001b[1;32m      3\u001b[0m     \u001b[38;5;28;01mfor\u001b[39;00m value \u001b[38;5;129;01min\u001b[39;00m mylist:\n\u001b[1;32m      4\u001b[0m         queue\u001b[38;5;241m.\u001b[39menqueue(value)\n",
      "\u001b[0;31mNameError\u001b[0m: name 'Queue' is not defined"
     ]
    }
   ],
   "source": [
    "def queue_helper(mylist=[1,2,3,4,5]):\n",
    "    queue = Queue()\n",
    "    for value in mylist:\n",
    "        queue.enqueue(value)\n",
    "        print(\"Current queue: \")\n",
    "        print(queue)\n",
    "        \n",
    "    print(\"Now we will dequeue\")\n",
    "    while queue.front:\n",
    "        try:\n",
    "            out = queue.dequeue()\n",
    "            print(queue)\n",
    "        except IndexError as idexrr:\n",
    "            print(idexrr)\n",
    "\n",
    "queue_helper()"
   ]
  },
  {
   "cell_type": "markdown",
   "id": "7d50b9bd",
   "metadata": {},
   "source": []
  },
  {
   "cell_type": "code",
   "execution_count": null,
   "id": "a7ff100e",
   "metadata": {},
   "outputs": [],
   "source": [
    "mylist = [1, 2, 3, 4, 5]\n",
    "print(mylist)"
   ]
  },
  {
   "cell_type": "code",
   "execution_count": null,
   "id": "16eef86b",
   "metadata": {},
   "outputs": [],
   "source": [
    "Mini Challenge\n",
    "LinkedList implementation\n",
    "Create a Node class with at least two attributes (data and next). Create a linked list class that keeps track of at least a head Node.\n",
    "\n",
    "Then add the following methods:\n",
    "\n",
    "Append\n",
    "__str__\n",
    "Mini Challenge Psuedocode\n",
    "Node: class Node:\n",
    "\n",
    " def __init__(self, data):\n",
    "     self.data = data\n",
    "     self.next = None\n",
    "Append:\n",
    "\n",
    "Declare the init function includes self.head = None\n",
    "The actual function should include self and an item def append(self, item):\n",
    " Case 1: Nothing is in the list yet... therefore self.head = None\n",
    " If Case 1 send the item to Node class\n",
    "     if self.head == None:\n",
    "         self.head = Node(item)      \n",
    " Case 2: There is one item in the list... therefore self.head = something\n",
    " If Case 2 set the previous Node item NEXT attribute to current item\n",
    "     current = self.head\n",
    "     current.next = Node(item)\n",
    "     current.next = Node(item)\n",
    " Case 3: There are many items in the list... therefore self.head = something\n",
    " If Case 2 traverse the list until you find the last Node then\n",
    "     Set the last Node.next to the current Node item\n",
    "         current = self.head\n",
    "         while current.next:\n",
    "             current = current.next\n",
    "    def __str__(self):\n"
   ]
  },
  {
   "cell_type": "code",
   "execution_count": 2,
   "id": "93277297",
   "metadata": {},
   "outputs": [
    {
     "ename": "SyntaxError",
     "evalue": "invalid syntax (1854264723.py, line 1)",
     "output_type": "error",
     "traceback": [
      "\u001b[0;36m  Cell \u001b[0;32mIn [2], line 1\u001b[0;36m\u001b[0m\n\u001b[0;31m    Define parameters:\u001b[0m\n\u001b[0m           ^\u001b[0m\n\u001b[0;31mSyntaxError\u001b[0m\u001b[0;31m:\u001b[0m invalid syntax\n"
     ]
    }
   ],
   "source": [
    "Define parameters:\n",
    "    \n",
    "    def __init__(self):\n",
    "    self.head = None\n",
    "\n",
    "Case 1.\n",
    "#There is nothing in the list yet\n",
    "\n",
    "    head == None \n",
    "    next == None\n",
    "#Set iput as head\n",
    "self.head = Node(item)\n",
    "\n",
    "Case 2.\n",
    "#There is one item on the list\n",
    "    \n",
    "    head == something \n",
    "    but... next = None\n",
    "#If self.head exists?\n",
    "# if yes: does self.next exist?\n",
    "#if no: there is 1 item\n",
    "# add the new item after self.head and update self.head to have next = new item.\n",
    "\n",
    "    current = self.head\n",
    "    current.next = Node(item)\n",
    "    \n",
    "Case 3.\n",
    "#More than 2 items on list\n",
    "#Iterate through nodes to see which one is next == None \n",
    "# Where next == None is last item\n",
    "\n",
    "current = Item 1\n",
    "current.next = Item 2 \n",
    "#After linking 2 items together, move through list\n",
    "    current = item1.next\n",
    "        so current = item2\n",
    "    current = item2.next\n",
    "        so current = item3\n",
    "    current = item4.next\n",
    "        so current = None"
   ]
  },
  {
   "cell_type": "code",
   "execution_count": null,
   "id": "7a896126",
   "metadata": {},
   "outputs": [],
   "source": []
  }
 ],
 "metadata": {
  "kernelspec": {
   "display_name": "Python 3 (ipykernel)",
   "language": "python",
   "name": "python3"
  },
  "language_info": {
   "codemirror_mode": {
    "name": "ipython",
    "version": 3
   },
   "file_extension": ".py",
   "mimetype": "text/x-python",
   "name": "python",
   "nbconvert_exporter": "python",
   "pygments_lexer": "ipython3",
   "version": "3.10.6"
  }
 },
 "nbformat": 4,
 "nbformat_minor": 5
}
