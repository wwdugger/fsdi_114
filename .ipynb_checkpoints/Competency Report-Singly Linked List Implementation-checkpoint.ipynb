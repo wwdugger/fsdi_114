{
 "cells": [
  {
   "cell_type": "markdown",
   "id": "cb81e2f2",
   "metadata": {},
   "source": [
    "# Singly linked list implementation which keeps track of a head Node\n",
    "##Addition of append and __str__"
   ]
  },
  {
   "cell_type": "markdown",
   "id": "3c8ce168",
   "metadata": {},
   "source": [
    "# Pseudocode\n",
    "Node: class Node:\n",
    "\n",
    " def __init__(self, data):\n",
    "     self.data = data\n",
    "     self.next = None\n",
    "Append:\n",
    "\n",
    "#The init function to include self.head = None\n",
    "#Function should include self and an item def append(self, item):\n",
    " Case 1: Nothing is in the list yet... therefore self.head = None\n",
    " If Case 1 send the item to Node class\n",
    "     if self.head == None:\n",
    "         self.head = Node(item)      \n",
    " Case 2: There is one item in the list... therefore self.head = something\n",
    " If Case 2 set the previous Node item NEXT attribute to current item\n",
    "     current = self.head\n",
    "     current.next = Node(item)\n",
    " Case 3: There are many items in the list... therefore self.head = something\n",
    " If Case 2 traverse the list until you find the last Node then\n",
    "     Set the last Node.next to the current Node item\n",
    "         current = self.head\n",
    "         while current.next:\n",
    "             current = current.next\n",
    "    def __str__(self):"
   ]
  }
 ],
 "metadata": {
  "kernelspec": {
   "display_name": "Python 3 (ipykernel)",
   "language": "python",
   "name": "python3"
  },
  "language_info": {
   "codemirror_mode": {
    "name": "ipython",
    "version": 3
   },
   "file_extension": ".py",
   "mimetype": "text/x-python",
   "name": "python",
   "nbconvert_exporter": "python",
   "pygments_lexer": "ipython3",
   "version": "3.10.6"
  }
 },
 "nbformat": 4,
 "nbformat_minor": 5
}
