{
 "cells": [
  {
   "cell_type": "code",
   "execution_count": 1,
   "id": "3ec42b97",
   "metadata": {},
   "outputs": [
    {
     "name": "stdout",
     "output_type": "stream",
     "text": [
      "H\n",
      "e\n",
      "l\n",
      "l\n",
      "o\n",
      ",\n",
      " \n",
      "w\n",
      "o\n",
      "r\n",
      "l\n",
      "d\n"
     ]
    }
   ],
   "source": [
    "for letter in \"Hello, world\":\n",
    "    print(letter)\n",
    "#after you run this code, press SHIFT+ENTER to run it"
   ]
  },
  {
   "cell_type": "markdown",
   "id": "197f1bb6",
   "metadata": {},
   "source": [
    "#Problem 1\n",
    "## Given two strings as input determine if they are anagrams of each other given the following criteria:\n",
    "\n",
    "\n",
    "Two strings are only anagrams of each other if all conditions below are met:\n",
    "1. They must be exactly the same length\n",
    "2. They must use exactly the same characters.\n",
    "\n",
    "Examples:\n",
    "cars and scar\n",
    "heart and earth\n",
    "etc\n",
    "'''"
   ]
  },
  {
   "cell_type": "code",
   "execution_count": 1,
   "id": "2897c52b",
   "metadata": {},
   "outputs": [
    {
     "ename": "NameError",
     "evalue": "name 'soirted' is not defined",
     "output_type": "error",
     "traceback": [
      "\u001b[0;31m---------------------------------------------------------------------------\u001b[0m",
      "\u001b[0;31mNameError\u001b[0m                                 Traceback (most recent call last)",
      "Cell \u001b[0;32mIn [1], line 7\u001b[0m\n\u001b[1;32m      3\u001b[0m \u001b[38;5;28;01mdef\u001b[39;00m \u001b[38;5;21managram_check\u001b[39m(str1, str2):\n\u001b[1;32m      4\u001b[0m     \u001b[38;5;28;01mreturn\u001b[39;00m \u001b[38;5;28msorted\u001b[39m(str1) \u001b[38;5;241m==\u001b[39m soirted(str2)\n\u001b[0;32m----> 7\u001b[0m \u001b[43managram_check\u001b[49m\u001b[43m(\u001b[49m\u001b[38;5;124;43m\"\u001b[39;49m\u001b[38;5;124;43mheart\u001b[39;49m\u001b[38;5;124;43m\"\u001b[39;49m\u001b[43m,\u001b[49m\u001b[43m \u001b[49m\u001b[38;5;124;43m\"\u001b[39;49m\u001b[38;5;124;43mearth\u001b[39;49m\u001b[38;5;124;43m\"\u001b[39;49m\u001b[43m)\u001b[49m\n",
      "Cell \u001b[0;32mIn [1], line 4\u001b[0m, in \u001b[0;36managram_check\u001b[0;34m(str1, str2)\u001b[0m\n\u001b[1;32m      3\u001b[0m \u001b[38;5;28;01mdef\u001b[39;00m \u001b[38;5;21managram_check\u001b[39m(str1, str2):\n\u001b[0;32m----> 4\u001b[0m     \u001b[38;5;28;01mreturn\u001b[39;00m \u001b[38;5;28msorted\u001b[39m(str1) \u001b[38;5;241m==\u001b[39m \u001b[43msoirted\u001b[49m(str2)\n",
      "\u001b[0;31mNameError\u001b[0m: name 'soirted' is not defined"
     ]
    }
   ],
   "source": [
    "# This is a BAD idea:\n",
    "\n",
    "def anagram_check(str1, str2):\n",
    "    return sorted(str1) == soirted(str2)\n",
    "\n",
    "\n",
    "anagram_check(\"heart\", \"earth\")\n"
   ]
  },
  {
   "cell_type": "code",
   "execution_count": null,
   "id": "48393943",
   "metadata": {},
   "outputs": [],
   "source": [
    "# SUDO TECH.\n",
    "# define function anagram_check: parameters ->(string1, string 2)\n",
    "#    if the length of string1 is not equal to the length of string2:\n",
    "#         return False\n",
    "#    dict_for_s1 = dict()\n",
    "#    dict_for_s2 = dict()\n",
    "#    if the length of string1 is equal to the length of strding2:\n",
    "#         for each index in the range from 0 to the length of string1:\n",
    "#                 if the character at position \"index\" of string1 is in dict_for_s1:\n",
    "#                        dict_for_s1[index] = dict_for_s1[index]+1\n",
    "#                 else:\n",
    "#                        create a new key in dict_for_s1 for the character at position \"index\"\n",
    "#                 if the character at position \"index\" of string2 is in dict_for_s2:\n",
    "#                        dict_for_s2[index] = dict_for_s2[\"index\"]+1\n",
    "#                 else:\n",
    "#                        create a new key in dict_for_s2 for the character at position \"index\"\n",
    "#         return dict_for_s1 == dict_for_s2\n"
   ]
  },
  {
   "cell_type": "code",
   "execution_count": null,
   "id": "0bcc74f0",
   "metadata": {},
   "outputs": [],
   "source": [
    "#what about the following example:\n",
    "# \"Tom Marvollo Riddle\" and \"I am Lord Voldemort\"\n",
    "print(ord(\"A\"))\n",
    "print(ord(\"a\"))"
   ]
  },
  {
   "cell_type": "code",
   "execution_count": null,
   "id": "e976099e",
   "metadata": {},
   "outputs": [],
   "source": [
    "# Your function should return True for the example above."
   ]
  },
  {
   "cell_type": "code",
   "execution_count": 4,
   "id": "4c47860c",
   "metadata": {},
   "outputs": [],
   "source": [
    "def anagram_check(s1, s2):\n",
    "    return False\n",
    "\n",
    "assert anagram_check(\"Wesley\", \"yelseW\") == False"
   ]
  },
  {
   "cell_type": "code",
   "execution_count": null,
   "id": "c3f64118",
   "metadata": {},
   "outputs": [],
   "source": []
  }
 ],
 "metadata": {
  "kernelspec": {
   "display_name": "Python 3 (ipykernel)",
   "language": "python",
   "name": "python3"
  },
  "language_info": {
   "codemirror_mode": {
    "name": "ipython",
    "version": 3
   },
   "file_extension": ".py",
   "mimetype": "text/x-python",
   "name": "python",
   "nbconvert_exporter": "python",
   "pygments_lexer": "ipython3",
   "version": "3.10.6"
  }
 },
 "nbformat": 4,
 "nbformat_minor": 5
}
